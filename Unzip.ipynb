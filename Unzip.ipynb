{
 "cells": [
  {
   "cell_type": "code",
   "execution_count": 1,
   "id": "bdda7cd3",
   "metadata": {},
   "outputs": [
    {
     "name": "stdout",
     "output_type": "stream",
     "text": [
      "Dataset successfully extracted to /workspace/USRF/Day4/Data/\n"
     ]
    }
   ],
   "source": [
    "import zipfile\n",
    "import os\n",
    "def unzip_dataset(zip_file_path, extraction_path):\n",
    "    if not os.path.exists(extraction_path):\n",
    "        os.makedirs(extraction_path)\n",
    "\n",
    "    # Open the zip file\n",
    "    with zipfile.ZipFile(zip_file_path, 'r') as zip_ref:\n",
    "        zip_ref.extractall(extraction_path)\n",
    "\n",
    "    print(f\"Dataset successfully extracted to {extraction_path}\")\n",
    "\n",
    "# Example usage\n",
    "zip_file_path = '/workspace/USRF/Day4/Data/plant_village.zip'\n",
    "extraction_path = '/workspace/USRF/Day4/Data/'\n",
    "\n",
    "unzip_dataset(zip_file_path, extraction_path)"
   ]
  },
  {
   "cell_type": "markdown",
   "id": "80e1b6b2",
   "metadata": {},
   "source": [
    "This code is a utility function used to extract the contents of a zip file to a specified directory."
   ]
  }
 ],
 "metadata": {
  "kernelspec": {
   "display_name": "Python 3 (ipykernel)",
   "language": "python",
   "name": "python3"
  },
  "language_info": {
   "codemirror_mode": {
    "name": "ipython",
    "version": 3
   },
   "file_extension": ".py",
   "mimetype": "text/x-python",
   "name": "python",
   "nbconvert_exporter": "python",
   "pygments_lexer": "ipython3",
   "version": "3.10.12"
  }
 },
 "nbformat": 4,
 "nbformat_minor": 5
}
