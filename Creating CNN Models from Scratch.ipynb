{
 "cells": [
  {
   "cell_type": "markdown",
   "metadata": {
    "id": "MoftbiO8jP9v"
   },
   "source": [
    "# **Creating CNN Models from Scratch, Compiling of CNN Models, Training and Testing, Plotting of Curves**"
   ]
  },
  {
   "cell_type": "markdown",
   "metadata": {
    "id": "iJ0ZKrDxffoG"
   },
   "source": [
    "**Importing Necessary libraries**\n",
    "\n",
    "* From keras library we are going to use image preprocessing task, to normalize the image pixel values in between 0 to 1.\n",
    "* Model is imported to load variuos Neural NEtwrok models such as Sequential.\n",
    "* We are going to use Adam as a optimizer\n",
    "* Keras layers such as Dense, Flatten, Conv2D and MaxPooling is used to implement the CNN model"
   ]
  },
  {
   "cell_type": "code",
   "execution_count": 1,
   "metadata": {
    "id": "JuKSi3EJyGb-"
   },
   "outputs": [
    {
     "name": "stderr",
     "output_type": "stream",
     "text": [
      "2024-06-19 04:00:03.407465: E external/local_xla/xla/stream_executor/cuda/cuda_dnn.cc:9373] Unable to register cuDNN factory: Attempting to register factory for plugin cuDNN when one has already been registered\n",
      "2024-06-19 04:00:03.407521: E external/local_xla/xla/stream_executor/cuda/cuda_fft.cc:607] Unable to register cuFFT factory: Attempting to register factory for plugin cuFFT when one has already been registered\n",
      "2024-06-19 04:00:03.408373: E external/local_xla/xla/stream_executor/cuda/cuda_blas.cc:1534] Unable to register cuBLAS factory: Attempting to register factory for plugin cuBLAS when one has already been registered\n",
      "2024-06-19 04:00:03.414586: I tensorflow/core/platform/cpu_feature_guard.cc:183] This TensorFlow binary is optimized to use available CPU instructions in performance-critical operations.\n",
      "To enable the following instructions: SSE3 SSE4.1 SSE4.2 AVX, in other operations, rebuild TensorFlow with the appropriate compiler flags.\n"
     ]
    }
   ],
   "source": [
    "from tensorflow.keras import applications\n",
    "from tensorflow.keras import optimizers\n",
    "from tensorflow.keras.models import Sequential, Model\n",
    "from tensorflow.keras.layers import Dropout, Flatten, Dense, GlobalAveragePooling2D\n",
    "from tensorflow.keras import backend as k\n",
    "from tensorflow.keras.callbacks import ModelCheckpoint, LearningRateScheduler, TensorBoard, EarlyStopping"
   ]
  },
  {
   "cell_type": "code",
   "execution_count": 2,
   "metadata": {
    "id": "ktoQR0pmMxQN"
   },
   "outputs": [],
   "source": [
    "import numpy as np\n",
    "from tensorflow.keras import models\n",
    "import matplotlib.pyplot as plt\n",
    "from tensorflow.keras.preprocessing import image\n",
    "from tensorflow.keras.preprocessing.image import ImageDataGenerator\n",
    "from tensorflow.keras.models import Model\n",
    "from tensorflow.keras import layers\n",
    "from tensorflow.keras.layers import  Dense, Flatten, Conv2D, MaxPooling2D\n",
    "from tensorflow.keras import Input"
   ]
  },
  {
   "cell_type": "markdown",
   "metadata": {
    "id": "fHnd3rrLLql4"
   },
   "source": [
    "#**Loading the training and testing data and defining the basic parameters**\n",
    "* We are resizing the input image to 64 * 64\n",
    "\n",
    "* In the dataset :\n",
    "    Training Set : 70%\n",
    "    Validation Set : 20%\n",
    "    Test Set : 10%"
   ]
  },
  {
   "cell_type": "code",
   "execution_count": 3,
   "metadata": {
    "colab": {
     "base_uri": "https://localhost:8080/",
     "height": 373
    },
    "executionInfo": {
     "elapsed": 3,
     "status": "error",
     "timestamp": 1715770498776,
     "user": {
      "displayName": "Abhijay",
      "userId": "07079466909855277196"
     },
     "user_tz": -330
    },
    "id": "PyYRaHdLavO2",
    "outputId": "db8799dd-d857-42c9-d4a5-6c6ff01592b8"
   },
   "outputs": [
    {
     "name": "stdout",
     "output_type": "stream",
     "text": [
      "Found 3002 images belonging to 4 classes.\n",
      "Found 635 images belonging to 4 classes.\n",
      "Found 546 images belonging to 4 classes.\n"
     ]
    }
   ],
   "source": [
    "# Normalize training and validation data in the range of 0 to 1\n",
    "train_datagen = ImageDataGenerator(rescale=1./255) # vertical_flip=True,\n",
    "                                                   # horizontal_flip=True,\n",
    "                                                   # height_shift_range=0.1,\n",
    "                                                   # width_shift_range=0.1\n",
    "validation_datagen = ImageDataGenerator(rescale=1./255)\n",
    "test_datagen = ImageDataGenerator(rescale=1./255)\n",
    "\n",
    "# Read the training sample and set the batch size\n",
    "train_generator = train_datagen.flow_from_directory(\n",
    "        '/workspace/USRF/Day4/Data/plant_village/train',\n",
    "        target_size=(64, 64),\n",
    "        batch_size=16,\n",
    "        class_mode='categorical')\n",
    "\n",
    "# Read Validation data from directory and define target size with batch size\n",
    "validation_generator = validation_datagen.flow_from_directory(\n",
    "        '/workspace/USRF/Day4/Data/plant_village/val',\n",
    "        target_size=(64, 64),\n",
    "        batch_size=16,\n",
    "        class_mode='categorical',\n",
    "        shuffle=False)\n",
    "\n",
    "test_generator = test_datagen.flow_from_directory(\n",
    "        '/workspace/USRF/Day4/Data/plant_village/test/',\n",
    "        target_size=(64, 64),\n",
    "        batch_size=1,\n",
    "        class_mode='categorical',\n",
    "        shuffle=False)\n"
   ]
  },
  {
   "cell_type": "markdown",
   "metadata": {
    "id": "vwNwRorH8g2W"
   },
   "source": [
    "**Visualization of few images**"
   ]
  },
  {
   "cell_type": "code",
   "execution_count": null,
   "metadata": {
    "colab": {
     "base_uri": "https://localhost:8080/",
     "height": 1000
    },
    "executionInfo": {
     "elapsed": 5123,
     "status": "ok",
     "timestamp": 1684226202195,
     "user": {
      "displayName": "KARNATI MOHAN",
      "userId": "16604712269571437600"
     },
     "user_tz": -330
    },
    "id": "tZsBwS0oavRB",
    "outputId": "4a31353c-4ae1-4272-d3f7-c9eeefab4051"
   },
   "outputs": [],
   "source": [
    "plt.figure(figsize=(16, 16))\n",
    "for i in range(1, 17):\n",
    "  plt.subplot(4, 4, i)\n",
    "  img, label = test_generator.next()\n",
    "  # print(img.shape)\n",
    "  # print(label)\n",
    "  plt.imshow(img[0])\n",
    "plt.show()"
   ]
  },
  {
   "cell_type": "code",
   "execution_count": 5,
   "metadata": {
    "colab": {
     "base_uri": "https://localhost:8080/"
    },
    "executionInfo": {
     "elapsed": 8,
     "status": "ok",
     "timestamp": 1684226202195,
     "user": {
      "displayName": "KARNATI MOHAN",
      "userId": "16604712269571437600"
     },
     "user_tz": -330
    },
    "id": "AheZPiNC6ZwZ",
    "outputId": "c80b6918-d5c2-47ab-c622-8ea68c323f20"
   },
   "outputs": [
    {
     "data": {
      "text/plain": [
       "(64, 64, 3)"
      ]
     },
     "execution_count": 5,
     "metadata": {},
     "output_type": "execute_result"
    }
   ],
   "source": [
    "img, label = test_generator.next()\n",
    "img[0].shape"
   ]
  },
  {
   "cell_type": "markdown",
   "metadata": {
    "id": "BiJvRIxN5P9D"
   },
   "source": [
    "\n",
    "# **Model Definition**\n",
    "\n",
    "* We are going to use 2 convolution layers with 3*3 filer and relu as an activation function\n",
    "* Then max pooling layer with 2*2 filter is used\n",
    "* After that we are going to use Flatten layer\n",
    "* Then Dense layer is used with relu function\n",
    "* In the output layer softmax function is used with 4 neurons as we have four class dataset.\n",
    "* model.summary() is used to check the overall architecture of the model with number of learnable parameters in each\n",
    "* Padding is Valid.\n",
    "* Stride\n"
   ]
  },
  {
   "cell_type": "code",
   "execution_count": 6,
   "metadata": {
    "colab": {
     "base_uri": "https://localhost:8080/",
     "height": 219
    },
    "executionInfo": {
     "elapsed": 10,
     "status": "error",
     "timestamp": 1715681464815,
     "user": {
      "displayName": "Anika Jain",
      "userId": "00119733572983314499"
     },
     "user_tz": -330
    },
    "id": "vTEBdXgBmBn-",
    "outputId": "08f82636-478a-487d-a851-015a7c9d972c"
   },
   "outputs": [
    {
     "name": "stdout",
     "output_type": "stream",
     "text": [
      "Model: \"sequential\"\n",
      "_________________________________________________________________\n",
      " Layer (type)                Output Shape              Param #   \n",
      "=================================================================\n",
      " conv2d (Conv2D)             (None, 62, 62, 128)       3584      \n",
      "                                                                 \n",
      " max_pooling2d (MaxPooling2  (None, 31, 31, 128)       0         \n",
      " D)                                                              \n",
      "                                                                 \n",
      " conv2d_1 (Conv2D)           (None, 29, 29, 64)        73792     \n",
      "                                                                 \n",
      " max_pooling2d_1 (MaxPoolin  (None, 14, 14, 64)        0         \n",
      " g2D)                                                            \n",
      "                                                                 \n",
      " conv2d_2 (Conv2D)           (None, 12, 12, 64)        36928     \n",
      "                                                                 \n",
      " max_pooling2d_2 (MaxPoolin  (None, 6, 6, 64)          0         \n",
      " g2D)                                                            \n",
      "                                                                 \n",
      " flatten (Flatten)           (None, 2304)              0         \n",
      "                                                                 \n",
      " dense (Dense)               (None, 32)                73760     \n",
      "                                                                 \n",
      " dense_1 (Dense)             (None, 4)                 132       \n",
      "                                                                 \n",
      "=================================================================\n",
      "Total params: 188196 (735.14 KB)\n",
      "Trainable params: 188196 (735.14 KB)\n",
      "Non-trainable params: 0 (0.00 Byte)\n",
      "_________________________________________________________________\n"
     ]
    },
    {
     "name": "stderr",
     "output_type": "stream",
     "text": [
      "2024-06-19 04:02:03.981647: I tensorflow/core/common_runtime/gpu/gpu_device.cc:1926] Created device /job:localhost/replica:0/task:0/device:GPU:0 with 17947 MB memory:  -> device: 0, name: NVIDIA A100-SXM4-40GB MIG 3g.20gb, pci bus id: 0000:b7:00.0, compute capability: 8.0\n"
     ]
    }
   ],
   "source": [
    "# Create the model\n",
    "model = models.Sequential()\n",
    "# Add new layers\n",
    "model.add(Conv2D(128, kernel_size=(3,3), activation = 'relu', input_shape=(64,64,3)))\n",
    "model.add(MaxPooling2D(pool_size=(2,2)))\n",
    "model.add(Conv2D(64, kernel_size=(3,3), activation = 'relu'))\n",
    "model.add(MaxPooling2D(pool_size=(2,2)))\n",
    "model.add(Conv2D(64, kernel_size=(3,3), activation = 'relu'))\n",
    "model.add(MaxPooling2D(pool_size=(2,2)))\n",
    "model.add(layers.Flatten())\n",
    "model.add(layers.Dense(32, activation='relu'))\n",
    "model.add(layers.Dense(4, activation='softmax'))\n",
    "model.summary()"
   ]
  },
  {
   "cell_type": "markdown",
   "metadata": {
    "id": "3EuUhICY2dGq"
   },
   "source": [
    "**Compiling and Training the Model**"
   ]
  },
  {
   "cell_type": "code",
   "execution_count": 7,
   "metadata": {
    "colab": {
     "base_uri": "https://localhost:8080/"
    },
    "executionInfo": {
     "elapsed": 2229204,
     "status": "ok",
     "timestamp": 1684228434523,
     "user": {
      "displayName": "KARNATI MOHAN",
      "userId": "16604712269571437600"
     },
     "user_tz": -330
    },
    "id": "es_cvLHSmIbF",
    "outputId": "9903c961-344e-4589-b9ca-c4a265cb8e09"
   },
   "outputs": [
    {
     "name": "stdout",
     "output_type": "stream",
     "text": [
      "Epoch 1/30\n"
     ]
    },
    {
     "name": "stderr",
     "output_type": "stream",
     "text": [
      "2024-06-19 04:02:06.459738: I external/local_xla/xla/stream_executor/cuda/cuda_dnn.cc:467] Loaded cuDNN version 90100\n",
      "2024-06-19 04:02:06.819256: I external/local_xla/xla/service/service.cc:168] XLA service 0x7fef692eee80 initialized for platform CUDA (this does not guarantee that XLA will be used). Devices:\n",
      "2024-06-19 04:02:06.819283: I external/local_xla/xla/service/service.cc:176]   StreamExecutor device (0): NVIDIA A100-SXM4-40GB MIG 3g.20gb, Compute Capability 8.0\n",
      "2024-06-19 04:02:06.824962: I tensorflow/compiler/mlir/tensorflow/utils/dump_mlir_util.cc:269] disabling MLIR crash reproducer, set env var `MLIR_CRASH_REPRODUCER_DIRECTORY` to enable.\n",
      "WARNING: All log messages before absl::InitializeLog() is called are written to STDERR\n",
      "I0000 00:00:1718769726.942029  553451 device_compiler.h:186] Compiled cluster using XLA!  This line is logged at most once for the lifetime of the process.\n"
     ]
    },
    {
     "name": "stdout",
     "output_type": "stream",
     "text": [
      "187/187 - 4s - loss: 1.1434 - acc: 0.4983 - val_loss: 0.8656 - val_acc: 0.6850 - 4s/epoch - 21ms/step\n",
      "Epoch 2/30\n",
      "187/187 - 1s - loss: 0.6673 - acc: 0.7475 - val_loss: 0.5357 - val_acc: 0.7874 - 1s/epoch - 6ms/step\n",
      "Epoch 3/30\n",
      "187/187 - 1s - loss: 0.4619 - acc: 0.8354 - val_loss: 0.3922 - val_acc: 0.8551 - 989ms/epoch - 5ms/step\n",
      "Epoch 4/30\n",
      "187/187 - 1s - loss: 0.3625 - acc: 0.8684 - val_loss: 0.4168 - val_acc: 0.8409 - 977ms/epoch - 5ms/step\n",
      "Epoch 5/30\n",
      "187/187 - 1s - loss: 0.3216 - acc: 0.8851 - val_loss: 0.3419 - val_acc: 0.8850 - 955ms/epoch - 5ms/step\n",
      "Epoch 6/30\n",
      "187/187 - 1s - loss: 0.3032 - acc: 0.8941 - val_loss: 0.3310 - val_acc: 0.8787 - 952ms/epoch - 5ms/step\n",
      "Epoch 7/30\n",
      "187/187 - 1s - loss: 0.2647 - acc: 0.9051 - val_loss: 0.3073 - val_acc: 0.8866 - 968ms/epoch - 5ms/step\n",
      "Epoch 8/30\n",
      "187/187 - 1s - loss: 0.2408 - acc: 0.9114 - val_loss: 0.3044 - val_acc: 0.9024 - 997ms/epoch - 5ms/step\n",
      "Epoch 9/30\n",
      "187/187 - 1s - loss: 0.2242 - acc: 0.9201 - val_loss: 0.3174 - val_acc: 0.8961 - 977ms/epoch - 5ms/step\n",
      "Epoch 10/30\n",
      "187/187 - 1s - loss: 0.2116 - acc: 0.9257 - val_loss: 0.2509 - val_acc: 0.9197 - 985ms/epoch - 5ms/step\n",
      "Epoch 11/30\n",
      "187/187 - 1s - loss: 0.1913 - acc: 0.9334 - val_loss: 0.2769 - val_acc: 0.8866 - 1s/epoch - 6ms/step\n",
      "Epoch 12/30\n",
      "187/187 - 1s - loss: 0.1903 - acc: 0.9327 - val_loss: 0.2382 - val_acc: 0.9244 - 988ms/epoch - 5ms/step\n",
      "Epoch 13/30\n",
      "187/187 - 1s - loss: 0.1658 - acc: 0.9460 - val_loss: 0.2609 - val_acc: 0.9008 - 972ms/epoch - 5ms/step\n",
      "Epoch 14/30\n",
      "187/187 - 1s - loss: 0.1574 - acc: 0.9460 - val_loss: 0.3588 - val_acc: 0.8850 - 953ms/epoch - 5ms/step\n",
      "Epoch 15/30\n",
      "187/187 - 1s - loss: 0.1551 - acc: 0.9510 - val_loss: 0.2508 - val_acc: 0.9102 - 977ms/epoch - 5ms/step\n",
      "Epoch 16/30\n",
      "187/187 - 1s - loss: 0.1405 - acc: 0.9547 - val_loss: 0.2583 - val_acc: 0.9071 - 943ms/epoch - 5ms/step\n",
      "Epoch 17/30\n",
      "187/187 - 1s - loss: 0.1319 - acc: 0.9580 - val_loss: 0.2238 - val_acc: 0.9213 - 988ms/epoch - 5ms/step\n",
      "Epoch 18/30\n",
      "187/187 - 1s - loss: 0.1340 - acc: 0.9530 - val_loss: 0.4493 - val_acc: 0.8520 - 1s/epoch - 5ms/step\n",
      "Epoch 19/30\n",
      "187/187 - 1s - loss: 0.1244 - acc: 0.9557 - val_loss: 0.2570 - val_acc: 0.9071 - 972ms/epoch - 5ms/step\n",
      "Epoch 20/30\n",
      "187/187 - 1s - loss: 0.1284 - acc: 0.9567 - val_loss: 0.2396 - val_acc: 0.9087 - 968ms/epoch - 5ms/step\n",
      "Epoch 21/30\n",
      "187/187 - 1s - loss: 0.1103 - acc: 0.9684 - val_loss: 0.2101 - val_acc: 0.9260 - 978ms/epoch - 5ms/step\n",
      "Epoch 22/30\n",
      "187/187 - 1s - loss: 0.0923 - acc: 0.9724 - val_loss: 0.2097 - val_acc: 0.9228 - 971ms/epoch - 5ms/step\n",
      "Epoch 23/30\n",
      "187/187 - 1s - loss: 0.1000 - acc: 0.9650 - val_loss: 0.2714 - val_acc: 0.9102 - 963ms/epoch - 5ms/step\n",
      "Epoch 24/30\n",
      "187/187 - 1s - loss: 0.0902 - acc: 0.9714 - val_loss: 0.2127 - val_acc: 0.9276 - 964ms/epoch - 5ms/step\n",
      "Epoch 25/30\n",
      "187/187 - 1s - loss: 0.0937 - acc: 0.9697 - val_loss: 0.1905 - val_acc: 0.9370 - 955ms/epoch - 5ms/step\n",
      "Epoch 26/30\n",
      "187/187 - 1s - loss: 0.0850 - acc: 0.9724 - val_loss: 0.1911 - val_acc: 0.9433 - 966ms/epoch - 5ms/step\n",
      "Epoch 27/30\n",
      "187/187 - 1s - loss: 0.0875 - acc: 0.9727 - val_loss: 0.2146 - val_acc: 0.9307 - 979ms/epoch - 5ms/step\n",
      "Epoch 28/30\n",
      "187/187 - 1s - loss: 0.0817 - acc: 0.9763 - val_loss: 0.1932 - val_acc: 0.9433 - 965ms/epoch - 5ms/step\n",
      "Epoch 29/30\n",
      "187/187 - 1s - loss: 0.0731 - acc: 0.9767 - val_loss: 0.2157 - val_acc: 0.9260 - 997ms/epoch - 5ms/step\n",
      "Epoch 30/30\n",
      "187/187 - 1s - loss: 0.0773 - acc: 0.9737 - val_loss: 0.1997 - val_acc: 0.9339 - 1s/epoch - 5ms/step\n"
     ]
    }
   ],
   "source": [
    "# We are going to use accuracy metrics and cross entropy loss as performance parameters\n",
    "model.compile(optimizer = optimizers.Adam(learning_rate = 0.0001), loss='categorical_crossentropy', metrics=['acc'])\n",
    "# Train the model\n",
    "history = model.fit(train_generator,\n",
    "      steps_per_epoch=train_generator.samples/train_generator.batch_size,\n",
    "      epochs=30,\n",
    "      validation_data=validation_generator,\n",
    "      validation_steps=validation_generator.samples/validation_generator.batch_size,\n",
    "      verbose=2)"
   ]
  },
  {
   "cell_type": "markdown",
   "metadata": {
    "id": "YcVJwaJOmL-i"
   },
   "source": [
    "**Saving the model**"
   ]
  },
  {
   "cell_type": "code",
   "execution_count": 8,
   "metadata": {
    "colab": {
     "base_uri": "https://localhost:8080/"
    },
    "executionInfo": {
     "elapsed": 9,
     "status": "ok",
     "timestamp": 1684228434524,
     "user": {
      "displayName": "KARNATI MOHAN",
      "userId": "16604712269571437600"
     },
     "user_tz": -330
    },
    "id": "ULc2T2mgKTLA",
    "outputId": "0fd5c342-b61d-4ac2-95fc-9811415c29bf"
   },
   "outputs": [
    {
     "name": "stdout",
     "output_type": "stream",
     "text": [
      "Saved model to disk\n"
     ]
    },
    {
     "name": "stderr",
     "output_type": "stream",
     "text": [
      "/usr/local/lib/python3.10/dist-packages/keras/src/engine/training.py:3103: UserWarning: You are saving your model as an HDF5 file via `model.save()`. This file format is considered legacy. We recommend using instead the native Keras format, e.g. `model.save('my_model.keras')`.\n",
      "  saving_api.save_model(\n"
     ]
    }
   ],
   "source": [
    "model.save(\"CONV_plant_deseas.h5\")\n",
    "print(\"Saved model to disk\")"
   ]
  },
  {
   "cell_type": "markdown",
   "metadata": {
    "id": "9DoJsC_0mT01"
   },
   "source": [
    "**Loading the model**"
   ]
  },
  {
   "cell_type": "code",
   "execution_count": 9,
   "metadata": {
    "id": "HMSvq1fjmVwQ"
   },
   "outputs": [],
   "source": [
    "model = models.load_model('CONV_plant_deseas.h5')"
   ]
  },
  {
   "cell_type": "markdown",
   "metadata": {
    "id": "bpJ96F4b2jCD"
   },
   "source": [
    "**Visualization of Accuracy and Loss Curves**"
   ]
  },
  {
   "cell_type": "code",
   "execution_count": 10,
   "metadata": {
    "id": "StfAuMLuKfCi"
   },
   "outputs": [],
   "source": [
    "train_acc = history.history['acc']\n",
    "val_acc = history.history['val_acc']\n",
    "train_loss = history.history['loss']\n",
    "val_loss = history.history['val_loss']"
   ]
  },
  {
   "cell_type": "code",
   "execution_count": 11,
   "metadata": {
    "colab": {
     "base_uri": "https://localhost:8080/",
     "height": 219
    },
    "executionInfo": {
     "elapsed": 550,
     "status": "error",
     "timestamp": 1715681471604,
     "user": {
      "displayName": "Anika Jain",
      "userId": "00119733572983314499"
     },
     "user_tz": -330
    },
    "id": "LKGbd7lvKfEY",
    "outputId": "085fcdee-84b4-4ce5-aba8-254b1996e85c"
   },
   "outputs": [
    {
     "data": {
      "image/png": "[encoded data removed]",
      "text/plain": [
       "<Figure size 640x480 with 1 Axes>"
      ]
     },
     "metadata": {},
     "output_type": "display_data"
    },
    {
     "data": {
      "text/plain": [
       "<Figure size 640x480 with 0 Axes>"
      ]
     },
     "metadata": {},
     "output_type": "display_data"
    },
    {
     "data": {
      "image/png": "[encoded data removed]",
      "text/plain": [
       "<Figure size 640x480 with 1 Axes>"
      ]
     },
     "metadata": {},
     "output_type": "display_data"
    }
   ],
   "source": [
    "epochs = range(len(train_acc))\n",
    "plt.plot(epochs, train_acc, 'b', label='Training Accuracy')\n",
    "plt.plot(epochs, val_acc, 'g', label='Validation Accuracy')\n",
    "plt.title('Training and Validation Accuracy')\n",
    "plt.grid()\n",
    "plt.legend()\n",
    "plt.figure()\n",
    "plt.show()\n",
    "\n",
    "plt.plot(epochs, train_loss, 'b', label='Training Loss')\n",
    "plt.plot(epochs, val_loss, 'g', label='Validation Loss')\n",
    "plt.title('Training and Validation Loss')\n",
    "plt.grid()\n",
    "plt.legend()\n",
    "plt.show()"
   ]
  },
  {
   "cell_type": "markdown",
   "metadata": {
    "id": "sWu3BUkb2sJY"
   },
   "source": [
    "**Prediction**"
   ]
  },
  {
   "cell_type": "code",
   "execution_count": 12,
   "metadata": {
    "colab": {
     "base_uri": "https://localhost:8080/"
    },
    "executionInfo": {
     "elapsed": 248180,
     "status": "ok",
     "timestamp": 1684228686244,
     "user": {
      "displayName": "KARNATI MOHAN",
      "userId": "16604712269571437600"
     },
     "user_tz": -330
    },
    "id": "H9UL05zbKfGR",
    "outputId": "67b1ab90-791f-45a6-da12-f92fb1028a75"
   },
   "outputs": [
    {
     "name": "stderr",
     "output_type": "stream",
     "text": [
      "/tmp/ipykernel_551869/461992945.py:14: UserWarning: `Model.predict_generator` is deprecated and will be removed in a future version. Please use `Model.predict`, which supports generators.\n",
      "  predictions = model.predict_generator(test_generator, steps=test_generator.samples/test_generator.batch_size,verbose=1)\n"
     ]
    },
    {
     "name": "stdout",
     "output_type": "stream",
     "text": [
      "546/546 [==============================] - 1s 1ms/step\n",
      "No of errors = 37/546\n"
     ]
    }
   ],
   "source": [
    "# Get the filenames from the generator\n",
    "fnames = test_generator.filenames\n",
    "\n",
    "# Get the ground truth from generator\n",
    "ground_truth = test_generator.classes\n",
    "\n",
    "# Get the label to class mapping from the generator\n",
    "label2index = test_generator.class_indices\n",
    "\n",
    "# Getting the mapping from class index to class label\n",
    "idx2label = dict((v,k) for k,v in label2index.items())\n",
    "\n",
    "# Get the predictions from the model using the generator\n",
    "predictions = model.predict_generator(test_generator, steps=test_generator.samples/test_generator.batch_size,verbose=1)\n",
    "predicted_classes = np.argmax(predictions,axis=1)\n",
    "\n",
    "errors = np.where(predicted_classes != ground_truth)[0]\n",
    "print(\"No of errors = {}/{}\".format(len(errors),test_generator.samples))\n"
   ]
  },
  {
   "cell_type": "code",
   "execution_count": 13,
   "metadata": {
    "colab": {
     "base_uri": "https://localhost:8080/"
    },
    "executionInfo": {
     "elapsed": 6,
     "status": "ok",
     "timestamp": 1684228686244,
     "user": {
      "displayName": "KARNATI MOHAN",
      "userId": "16604712269571437600"
     },
     "user_tz": -330
    },
    "id": "uxXivh_jKfIg",
    "outputId": "81aae27e-d3d7-4cdb-9ced-f2400a170841"
   },
   "outputs": [
    {
     "data": {
      "text/plain": [
       "93.22344322344323"
      ]
     },
     "execution_count": 13,
     "metadata": {},
     "output_type": "execute_result"
    }
   ],
   "source": [
    "accuracy = ((test_generator.samples-len(errors))/test_generator.samples) * 100\n",
    "accuracy"
   ]
  },
  {
   "cell_type": "markdown",
   "metadata": {
    "id": "Xj4x6pbq2vdn"
   },
   "source": [
    "**Confusion Matrix**"
   ]
  },
  {
   "cell_type": "code",
   "execution_count": 14,
   "metadata": {
    "colab": {
     "base_uri": "https://localhost:8080/",
     "height": 562
    },
    "executionInfo": {
     "elapsed": 2589,
     "status": "ok",
     "timestamp": 1684228688831,
     "user": {
      "displayName": "KARNATI MOHAN",
      "userId": "16604712269571437600"
     },
     "user_tz": -330
    },
    "id": "R1-Cw2BiKfL0",
    "outputId": "86892ef0-3758-400a-9ca6-e472832dce26"
   },
   "outputs": [
    {
     "data": {
      "image/png": "[encoded data removed]",
      "text/plain": [
       "<Figure size 500x400 with 2 Axes>"
      ]
     },
     "metadata": {},
     "output_type": "display_data"
    }
   ],
   "source": [
    "from sklearn.metrics import confusion_matrix\n",
    "import seaborn as sns\n",
    "import numpy as np\n",
    "from matplotlib import pyplot as plt\n",
    "cm = confusion_matrix(y_true=ground_truth, y_pred=predicted_classes)\n",
    "cm = np.array(cm)\n",
    "# Normalise\n",
    "cmn = cm.astype('float') / cm.sum(axis=1)[:, np.newaxis]\n",
    "fig, ax = plt.subplots(figsize=(5,4))\n",
    "sns.heatmap(cmn, annot=True, fmt='.2f', xticklabels=label2index, yticklabels=label2index, cmap=\"YlGnBu\")\n",
    "plt.ylabel('Actual', fontsize=15)\n",
    "plt.xlabel('Predicted', fontsize=15)\n",
    "plt.show(block=False)"
   ]
  },
  {
   "cell_type": "markdown",
   "metadata": {
    "id": "KxArS40N2y6M"
   },
   "source": [
    "**Classification Report**"
   ]
  },
  {
   "cell_type": "code",
   "execution_count": 15,
   "metadata": {
    "colab": {
     "base_uri": "https://localhost:8080/"
    },
    "executionInfo": {
     "elapsed": 7,
     "status": "ok",
     "timestamp": 1684228688832,
     "user": {
      "displayName": "KARNATI MOHAN",
      "userId": "16604712269571437600"
     },
     "user_tz": -330
    },
    "id": "_-jcVMDfKTND",
    "outputId": "e990f6f0-9bd7-45dc-a05c-e94da41109c2"
   },
   "outputs": [
    {
     "name": "stdout",
     "output_type": "stream",
     "text": [
      "                          precision    recall  f1-score   support\n",
      "\n",
      "      Apple_Frogeye_Spot       0.88      0.96      0.92       103\n",
      "      Apple___Apple_scab       0.88      0.93      0.90       134\n",
      "Apple___Cedar_apple_rust       1.00      0.94      0.97        49\n",
      "         Apple___healthy       0.97      0.92      0.95       260\n",
      "\n",
      "                accuracy                           0.93       546\n",
      "               macro avg       0.93      0.94      0.93       546\n",
      "            weighted avg       0.94      0.93      0.93       546\n",
      "\n"
     ]
    }
   ],
   "source": [
    "from sklearn.metrics import classification_report\n",
    "print(classification_report(ground_truth, predicted_classes, target_names=label2index))"
   ]
  },
  {
   "cell_type": "code",
   "execution_count": null,
   "metadata": {
    "id": "wstAASuvjP-S"
   },
   "outputs": [],
   "source": []
  }
 ],
 "metadata": {
  "accelerator": "GPU",
  "colab": {
   "gpuType": "T4",
   "provenance": []
  },
  "gpuClass": "standard",
  "kernelspec": {
   "display_name": "Python 3 (ipykernel)",
   "language": "python",
   "name": "python3"
  },
  "language_info": {
   "codemirror_mode": {
    "name": "ipython",
    "version": 3
   },
   "file_extension": ".py",
   "mimetype": "text/x-python",
   "name": "python",
   "nbconvert_exporter": "python",
   "pygments_lexer": "ipython3",
   "version": "3.10.12"
  }
 },
 "nbformat": 4,
 "nbformat_minor": 4
}
